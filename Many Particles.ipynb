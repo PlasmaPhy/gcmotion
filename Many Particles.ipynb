{
 "cells": [
  {
   "cell_type": "code",
   "execution_count": 21,
   "metadata": {},
   "outputs": [],
   "source": [
    "import numpy as np\n",
    "from importlib import reload\n",
    "import matplotlib.pyplot as plt\n",
    "import Source.Particle as Particle\n",
    "import Source.Particles as Particles\n",
    "import Source.Parabolas as Parabolas\n",
    "import Functions.Electric_fields as Electric_fields\n",
    "import Functions.Qfactors as Qfactors\n",
    "\n",
    "plt.style.use(\"ggplot\")\n",
    "plt.rcParams[\"figure.dpi\"] = 300\n",
    "\n",
    "reload(Particle) # for debugging, can be removed\n",
    "reload(Particles)\n",
    "reload(Parabolas) # for debugging, can be removed\n",
    "reload(Electric_fields) # for debugging, can be removed\n",
    "reload(Qfactors); # for debugging, can be removed"
   ]
  },
  {
   "cell_type": "code",
   "execution_count": 22,
   "metadata": {},
   "outputs": [
    {
     "data": {
      "text/plain": [
       "[{'psi_wall': 0.3,\n",
       "  'q': 'Qfactors.Unity()',\n",
       "  'B': [0, 1, 0],\n",
       "  'Efield': 'Electric_fields.Radial(psi_wall',\n",
       "  'species': 'e',\n",
       "  'mu': '10**(-5)',\n",
       "  'theta0': 0,\n",
       "  'psi0': 0.03,\n",
       "  'z0': 0,\n",
       "  'Pz0': -0.04,\n",
       "  'tspan': 'np.linspace(0'},\n",
       " {'psi_wall': 0.35,\n",
       "  'q': 'Qfactors.Unity()',\n",
       "  'B': [0, 1, 0],\n",
       "  'Efield': 'q)',\n",
       "  'species': 'e',\n",
       "  'mu': '10**(-5)',\n",
       "  'theta0': 0,\n",
       "  'psi0': 0.04,\n",
       "  'z0': 0,\n",
       "  'Pz0': -0.04,\n",
       "  'tspan': 10000},\n",
       " {'psi_wall': 0.4,\n",
       "  'q': 'Qfactors.Unity()',\n",
       "  'B': [0, 1, 0],\n",
       "  'Efield': 'Electric_fields.Radial(psi_wall',\n",
       "  'species': 'e',\n",
       "  'mu': '10**(-5)',\n",
       "  'theta0': 0,\n",
       "  'psi0': 0.05,\n",
       "  'z0': 0,\n",
       "  'Pz0': -0.04,\n",
       "  'tspan': '1000)'}]"
      ]
     },
     "execution_count": 22,
     "metadata": {},
     "output_type": "execute_result"
    }
   ],
   "source": [
    "path = \"parameters.yaml\"\n",
    "foo = Particles.Particles(path)\n",
    "foo.params"
   ]
  }
 ],
 "metadata": {
  "kernelspec": {
   "display_name": ".venv",
   "language": "python",
   "name": "python3"
  },
  "language_info": {
   "codemirror_mode": {
    "name": "ipython",
    "version": 3
   },
   "file_extension": ".py",
   "mimetype": "text/x-python",
   "name": "python",
   "nbconvert_exporter": "python",
   "pygments_lexer": "ipython3",
   "version": "3.11.2"
  }
 },
 "nbformat": 4,
 "nbformat_minor": 2
}
